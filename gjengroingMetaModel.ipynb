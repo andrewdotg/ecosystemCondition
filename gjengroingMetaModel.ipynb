{
 "cells": [
  {
   "cell_type": "markdown",
   "metadata": {},
   "source": [
    "This script takes the output tiles from gjengroingMetaModelDownloadImageTiles.Rmd and passes them to the meta model for canopy height inference. "
   ]
  },
  {
   "cell_type": "code",
   "execution_count": null,
   "metadata": {},
   "outputs": [],
   "source": [
    "import argparse\n",
    "import os\n",
    "import torch\n",
    "from pathlib import Path\n",
    "import torch.nn as nn\n",
    "import rasterio\n",
    "import torch.nn.functional as F\n",
    "from models.backbone import SSLVisionTransformer\n",
    "from models.dpt_head import DPTHead\n",
    "import pytorch_lightning as pl\n",
    "from models.regressor import RNet\n",
    "import torchvision.transforms.functional as TF\n",
    "import numpy as np"
   ]
  },
  {
   "cell_type": "markdown",
   "metadata": {},
   "source": []
  },
  {
   "cell_type": "code",
   "execution_count": null,
   "metadata": {},
   "outputs": [],
   "source": []
  }
 ],
 "metadata": {
  "language_info": {
   "name": "python"
  }
 },
 "nbformat": 4,
 "nbformat_minor": 2
}
